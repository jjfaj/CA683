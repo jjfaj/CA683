{
  "nbformat": 4,
  "nbformat_minor": 0,
  "metadata": {
    "colab": {
      "name": "CA683 Assignment.ipynb",
      "provenance": [],
      "collapsed_sections": [],
      "toc_visible": true,
      "authorship_tag": "ABX9TyO2lxKuZ/YHPjIcfvghWRx2",
      "include_colab_link": true
    },
    "kernelspec": {
      "name": "python3",
      "display_name": "Python 3"
    }
  },
  "cells": [
    {
      "cell_type": "markdown",
      "metadata": {
        "id": "view-in-github",
        "colab_type": "text"
      },
      "source": [
        "<a href=\"https://colab.research.google.com/github/jjfaj/CA683/blob/master/CA683_Assignment.ipynb\" target=\"_parent\"><img src=\"https://colab.research.google.com/assets/colab-badge.svg\" alt=\"Open In Colab\"/></a>"
      ]
    },
    {
      "cell_type": "markdown",
      "metadata": {
        "id": "-e_Qc8kf_7b3",
        "colab_type": "text"
      },
      "source": [
        "#CA683 Assignment\n",
        "\n",
        "Following is the model development for the CA683 assignment"
      ]
    },
    {
      "cell_type": "markdown",
      "metadata": {
        "id": "NRzLHdBGAOCZ",
        "colab_type": "text"
      },
      "source": [
        "#Import Functions\n",
        "\n"
      ]
    },
    {
      "cell_type": "code",
      "metadata": {
        "id": "-EmqZk46MVGL",
        "colab_type": "code",
        "outputId": "a9bf6aaa-f9b0-48dc-a961-6e2deeea2a55",
        "colab": {
          "base_uri": "https://localhost:8080/",
          "height": 54
        }
      },
      "source": [
        "import pandas as pd\n",
        "import os\n",
        "#import pyprind\n",
        "import logging\n",
        "import pickle\n",
        "import numpy as np\n",
        "import statistics\n",
        "import seaborn as sns\n",
        "from numpy import hstack\n",
        "from tensorflow.python.keras import Sequential\n",
        "from tensorflow.python.keras import layers\n",
        "from tensorflow.python.keras import regularizers\n",
        "from tensorflow.python.keras.preprocessing.text import Tokenizer\n",
        "from tensorflow.python.keras.preprocessing import sequence\n",
        "from tensorflow.python.keras.models import load_model\n",
        "\n",
        "from datetime import datetime\n",
        "from sklearn import neighbors\n",
        "from sklearn.metrics import mean_squared_error \n",
        "from sklearn.metrics import mean_absolute_error\n",
        "from sklearn.metrics import r2_score\n",
        "from math import sqrt\n",
        "import matplotlib.pyplot as plt\n",
        "from scipy.integrate import odeint\n",
        "%matplotlib inline\n",
        "\n",
        "from tensorflow.keras.layers import Dense, Flatten, Conv1D, MaxPool1D, LSTM, Dropout\n",
        "from tensorflow.keras import Model\n",
        "\n",
        "from google.colab import drive\n",
        "from collections import Counter\n",
        "from sklearn.model_selection import train_test_split\n",
        "from sklearn.preprocessing import MinMaxScaler\n",
        "from sklearn.preprocessing import StandardScaler\n",
        "from sklearn.ensemble import RandomForestRegressor\n",
        "from sklearn.linear_model import LinearRegression\n",
        "from sklearn import linear_model\n",
        "from sklearn import utils\n",
        "\n",
        "from statsmodels.tsa.stattools import adfuller\n",
        "import statsmodels as sm\n",
        "import statsmodels.api as smx\n",
        "from statsmodels.tsa.arima_model import ARIMA\n",
        "\n",
        "import warnings\n",
        "import itertools\n",
        "import matplotlib.pyplot as plt\n",
        "warnings.filterwarnings(\"ignore\")\n",
        "plt.style.use('fivethirtyeight')\n",
        "import matplotlib\n",
        "matplotlib.rcParams['axes.labelsize'] = 14\n",
        "matplotlib.rcParams['xtick.labelsize'] = 12\n",
        "matplotlib.rcParams['ytick.labelsize'] = 12\n",
        "matplotlib.rcParams['text.color'] = 'G'\n",
        "\n",
        "drive.mount('/content/drive/')\n",
        "os.chdir('/content/drive/My Drive/CA683_Assignment/')"
      ],
      "execution_count": 237,
      "outputs": [
        {
          "output_type": "stream",
          "text": [
            "Drive already mounted at /content/drive/; to attempt to forcibly remount, call drive.mount(\"/content/drive/\", force_remount=True).\n"
          ],
          "name": "stdout"
        }
      ]
    },
    {
      "cell_type": "markdown",
      "metadata": {
        "id": "S-h5uuhWSZjd",
        "colab_type": "text"
      },
      "source": [
        "#Definitions"
      ]
    },
    {
      "cell_type": "code",
      "metadata": {
        "id": "xvD5E1O8SbVV",
        "colab_type": "code",
        "colab": {}
      },
      "source": [
        ""
      ],
      "execution_count": 0,
      "outputs": []
    },
    {
      "cell_type": "markdown",
      "metadata": {
        "id": "1mjmeqS_293S",
        "colab_type": "text"
      },
      "source": [
        "#Load Datasets"
      ]
    },
    {
      "cell_type": "code",
      "metadata": {
        "id": "sYEszYF24JiM",
        "colab_type": "code",
        "colab": {}
      },
      "source": [
        "#Load Time Series Data\n",
        "file_path = './Data/'\n",
        "df_deaths = pd.read_csv(file_path+'time_series_covid_19_deaths.csv')\n",
        "df_confirmed = pd.read_csv(file_path+'time_series_covid_19_confirmed.csv')\n",
        "df_recover = pd.read_csv(file_path+'time_series_covid_19_recovered.csv')"
      ],
      "execution_count": 0,
      "outputs": []
    },
    {
      "cell_type": "code",
      "metadata": {
        "colab_type": "code",
        "id": "uYQbm2FHfIfp",
        "colab": {}
      },
      "source": [
        "#Load Country characteristic data (Population, Density, First Covid Case, etc)\n",
        "df_country = pd.read_csv(file_path+'covid19_merged.csv')\n",
        "\n",
        "#Load in the Restrictions per Country\n",
        "df_restrictions = pd.read_excel(file_path+'Restrictions by Country v2.xlsx')\n",
        "\n",
        "#Load Worldometer Summary for the Test Cases per million\n",
        "df_world = pd.read_excel(file_path+'Worldometer Summary.xlsx')"
      ],
      "execution_count": 0,
      "outputs": []
    },
    {
      "cell_type": "markdown",
      "metadata": {
        "id": "qApAYP7_6kti",
        "colab_type": "text"
      },
      "source": [
        "#Data Understanding"
      ]
    },
    {
      "cell_type": "code",
      "metadata": {
        "id": "1q2-YLa46pxE",
        "colab_type": "code",
        "colab": {}
      },
      "source": [
        ""
      ],
      "execution_count": 0,
      "outputs": []
    },
    {
      "cell_type": "markdown",
      "metadata": {
        "id": "Y7rXqF8cAYtC",
        "colab_type": "text"
      },
      "source": [
        "#Prepare Data"
      ]
    },
    {
      "cell_type": "markdown",
      "metadata": {
        "id": "brlZxn_TDdx1",
        "colab_type": "text"
      },
      "source": [
        "##SEIR Model"
      ]
    },
    {
      "cell_type": "code",
      "metadata": {
        "id": "W_cioubfgJh3",
        "colab_type": "code",
        "colab": {}
      },
      "source": [
        "#Prepare the Data for the SEIR model\n",
        "#Get the Min and Max Date for Restrictions\n",
        "df_country_tmp = df_restrictions[df_restrictions.columns[:2]].copy()\n",
        "df_dates = df_restrictions[df_restrictions.columns[-31:]].copy()\n",
        "\n",
        "df_minmax = pd.concat([df_country_tmp, df_dates.min(axis=1).rename('min_date'), df_dates.max(axis=1).rename('max_date')], axis=1)"
      ],
      "execution_count": 0,
      "outputs": []
    },
    {
      "cell_type": "code",
      "metadata": {
        "id": "8fOlxAqolXA9",
        "colab_type": "code",
        "colab": {}
      },
      "source": [
        "#Only focus on countries and not individual territories\n",
        "df_minmax = df_minmax[df_minmax['location_wiki'].isna()]\n",
        "df_minmax.drop('location_wiki', axis=1)"
      ],
      "execution_count": 0,
      "outputs": []
    },
    {
      "cell_type": "code",
      "metadata": {
        "id": "PwTtVE-EFB6S",
        "colab_type": "code",
        "colab": {}
      },
      "source": [
        "#Join the Restrictions & Country data frames\n",
        "df_result = pd.merge(df_minmax, df_country, left_on='country', right_on='country',how='inner')\n",
        "df_seir = df_result.filter(['country','min_date','max_date', 'covid19_first_date','Population_2020' ], axis=1)\n",
        "\n",
        "#Set the Covid19_first_date field to a datetime type to compare to the Min/Max dates of the restrictions\n",
        "df_seir['covid19_first_date'] = df_seir['covid19_first_date'].astype('datetime64[ns]')"
      ],
      "execution_count": 0,
      "outputs": []
    },
    {
      "cell_type": "code",
      "metadata": {
        "id": "xt3ZK_Ter2A5",
        "colab_type": "code",
        "colab": {}
      },
      "source": [
        "df_seir['Difference'] = df_seir['min_date'].sub(df_seir['covid19_first_date'], axis=0)\n",
        "df_seir['Difference'] = df_seir['Difference'] / np.timedelta64(1, 'D')"
      ],
      "execution_count": 0,
      "outputs": []
    },
    {
      "cell_type": "code",
      "metadata": {
        "id": "mBaLnzqzyPGl",
        "colab_type": "code",
        "colab": {}
      },
      "source": [
        "##Looking at the Min/Max dates of when the the restrictions were implemented, it appears\n",
        "#that there are issues with the quality of the data.  There are some countries where the \n",
        "##restrictions were implemented before the first Covid19 case was identified, which is \n",
        "#possible, but unlikely.  Because of this, I'm only going to focus on of more than 20 days\n",
        "df_seir_test = df_seir[df_seir['Difference'] > 20]\n",
        "df_seir_test"
      ],
      "execution_count": 0,
      "outputs": []
    },
    {
      "cell_type": "code",
      "metadata": {
        "id": "1VPrLZ8KowyO",
        "colab_type": "code",
        "colab": {}
      },
      "source": [
        "df_minmax"
      ],
      "execution_count": 0,
      "outputs": []
    },
    {
      "cell_type": "markdown",
      "metadata": {
        "id": "xn26vHkCDjx8",
        "colab_type": "text"
      },
      "source": [
        "##Prep Time Series for ARIMA"
      ]
    },
    {
      "cell_type": "code",
      "metadata": {
        "id": "B_Kozu8hF9Fr",
        "colab_type": "code",
        "colab": {}
      },
      "source": [
        "df_transpose = df_deaths\n",
        "df_transpose = df_transpose.drop(['Lat', 'Long'], axis=1)\n",
        "df_transpose = df_transpose.fillna('')\n",
        "df_transpose = df_transpose.drop(['Province/State'], axis=1)\n",
        "#Need to groupby Province/State to get it by country rather than territory\n",
        "df_transpose = df_transpose.groupby(['Country/Region']).sum()\n",
        "df_transpose = df_transpose.transpose().reset_index().rename(columns={'index':'Date'})\n",
        "df_transpose.columns.name = None\n",
        "df_transpose['Date'] = df_transpose['Date'].astype('datetime64[ns]')\n",
        "#df_transpose.head(40)\n",
        "\n",
        "#df_transpose['Country/Region'] = df_transpose['Country/Region'] + df_transpose['Province/State']\n",
        "#df_transpose.columns = df_transpose.iloc[1]\n",
        "#df_transpose = df_transpose.drop(df_transpose.index[0])\n",
        "#df_transpose = df_transpose.drop(df_transpose.index[0])\n",
        "#df_transpose = df_transpose.rename({'Country/Region':'Date'}, axis=1)"
      ],
      "execution_count": 0,
      "outputs": []
    },
    {
      "cell_type": "code",
      "metadata": {
        "id": "GXS_kQyaH6xj",
        "colab_type": "code",
        "outputId": "8519ef69-dec9-48fd-c0ce-5d86a69b91a1",
        "colab": {
          "base_uri": "https://localhost:8080/",
          "height": 224
        }
      },
      "source": [
        "#y.Austria= df_transpose.set_index(['Date'])\n",
        "df_transpose.China.plot(figsize=(19, 4))\n",
        "plt.show()\n",
        "\n",
        "df_china = df_transpose\n",
        "df_austria = df_transpose"
      ],
      "execution_count": 42,
      "outputs": [
        {
          "output_type": "display_data",
          "data": {
            "image/png": "[encoded data removed]",
            "text/plain": [
              "<Figure size 1368x288 with 1 Axes>"
            ]
          },
          "metadata": {
            "tags": [],
            "needs_background": "light"
          }
        }
      ]
    },
    {
      "cell_type": "code",
      "metadata": {
        "id": "ybZfG5sWZWLG",
        "colab_type": "code",
        "outputId": "782b06fb-6d5a-40e6-bffe-1aa5a1888685",
        "colab": {
          "base_uri": "https://localhost:8080/",
          "height": 170
        }
      },
      "source": [
        "#define function for ADF test\n",
        "def adf_test(timeseries):\n",
        "    #Perform Dickey-Fuller test:\n",
        "    print ('Results of Dickey-Fuller Test:')\n",
        "    dftest = adfuller(timeseries, autolag='AIC')\n",
        "    dfoutput = pd.Series(dftest[0:4], index=['Test Statistic','p-value','#Lags Used','Number of Observations Used'])\n",
        "    for key,value in dftest[4].items():\n",
        "       dfoutput['Critical Value (%s)'%key] = value\n",
        "    print (dfoutput)\n",
        "\n",
        "#apply adf test on the series\n",
        "adf_test(df_austria['Austria'])"
      ],
      "execution_count": 43,
      "outputs": [
        {
          "output_type": "stream",
          "text": [
            "Results of Dickey-Fuller Test:\n",
            "Test Statistic                 -0.827971\n",
            "p-value                         0.810767\n",
            "#Lags Used                     11.000000\n",
            "Number of Observations Used    70.000000\n",
            "Critical Value (1%)            -3.527426\n",
            "Critical Value (5%)            -2.903811\n",
            "Critical Value (10%)           -2.589320\n",
            "dtype: float64\n"
          ],
          "name": "stdout"
        }
      ]
    },
    {
      "cell_type": "code",
      "metadata": {
        "id": "KVUorslkNx8b",
        "colab_type": "code",
        "colab": {
          "base_uri": "https://localhost:8080/",
          "height": 71
        },
        "outputId": "2a8e650f-f141-4503-e6db-efd62337254b"
      },
      "source": [
        "print(adfuller(df_transpose['Austria']))\n",
        "print(adfuller(df_transpose['China']))"
      ],
      "execution_count": 44,
      "outputs": [
        {
          "output_type": "stream",
          "text": [
            "(-0.8279714259257718, 0.8107672945023334, 11, 70, {'1%': -3.5274258688046647, '5%': -2.903810816326531, '10%': -2.5893204081632653}, 361.0460906902703)\n",
            "(-3.5931496579904016, 0.005893350201736048, 10, 71, {'1%': -3.526004646825607, '5%': -2.9032002348069774, '10%': -2.5889948363419957}, 681.7047203195191)\n"
          ],
          "name": "stdout"
        }
      ]
    },
    {
      "cell_type": "code",
      "metadata": {
        "id": "aAhQeKryJNHm",
        "colab_type": "code",
        "colab": {
          "base_uri": "https://localhost:8080/",
          "height": 282
        },
        "outputId": "7501061a-2e6d-466d-b6a0-48db5e187087"
      },
      "source": [
        "df_austria['Austria_Diff'] = df_austria['Austria'] - df_austria['Austria'].shift(1)\n",
        "df_austria['Austria_Diff'].plot()"
      ],
      "execution_count": 45,
      "outputs": [
        {
          "output_type": "execute_result",
          "data": {
            "text/plain": [
              "<matplotlib.axes._subplots.AxesSubplot at 0x7f9051385128>"
            ]
          },
          "metadata": {
            "tags": []
          },
          "execution_count": 45
        },
        {
          "output_type": "display_data",
          "data": {
            "image/png": "[encoded data removed]",
            "text/plain": [
              "<Figure size 432x288 with 1 Axes>"
            ]
          },
          "metadata": {
            "tags": [],
            "needs_background": "light"
          }
        }
      ]
    },
    {
      "cell_type": "code",
      "metadata": {
        "id": "cn5a5ljeJUrC",
        "colab_type": "code",
        "colab": {
          "base_uri": "https://localhost:8080/",
          "height": 282
        },
        "outputId": "ae3dd718-8540-4e5e-f283-d4d987b738e6"
      },
      "source": [
        "df_china['China_Diff'] = df_china['China'] - df_china['China'].shift(1)\n",
        "df_china['China_Diff'].plot()"
      ],
      "execution_count": 10,
      "outputs": [
        {
          "output_type": "execute_result",
          "data": {
            "text/plain": [
              "<matplotlib.axes._subplots.AxesSubplot at 0x7fd350a10400>"
            ]
          },
          "metadata": {
            "tags": []
          },
          "execution_count": 10
        },
        {
          "output_type": "display_data",
          "data": {
            "image/png": "[encoded data removed]",
            "text/plain": [
              "<Figure size 432x288 with 1 Axes>"
            ]
          },
          "metadata": {
            "tags": [],
            "needs_background": "light"
          }
        }
      ]
    },
    {
      "cell_type": "code",
      "metadata": {
        "id": "oeD45n95Jclj",
        "colab_type": "code",
        "colab": {}
      },
      "source": [
        "#Set-up a dataframe for the actual results\n",
        "df_actual = df_transpose\n",
        "steps=1\n",
        "df_actual['Austria']=df_actual['Austria'] - df_actual['Austria'].shift(steps)\n",
        "df_actual['Sweden']=df_actual['Sweden'] - df_actual['Sweden'].shift(steps)\n",
        "df_actual['Switzerland']=df_actual['Switzerland'] - df_actual['Switzerland'].shift(steps)\n",
        "df_actual['Germany']=df_actual['Germany'] - df_actual['Germany'].shift(steps)\n",
        "df_actual['United Kingdom']=df_actual['United Kingdom'] - df_actual['United Kingdom'].shift(steps)\n",
        "df_actual['China']=df_actual['China'] - df_actual['China'].shift(steps)"
      ],
      "execution_count": 0,
      "outputs": []
    },
    {
      "cell_type": "markdown",
      "metadata": {
        "id": "_HYvP_-YvwoD",
        "colab_type": "text"
      },
      "source": [
        "##Prep Time Series for RNN"
      ]
    },
    {
      "cell_type": "code",
      "metadata": {
        "id": "4GBFDx1qIoyS",
        "colab_type": "code",
        "colab": {}
      },
      "source": [
        "#Convert Series for Supervised Learning\n",
        "def series_to_supervised(data, n_in=1, n_out=1, dropnan=True):\n",
        "\tn_vars = 1 if type(data) is list else data.shape[1]\n",
        "\tdf = pd.DataFrame(data)\n",
        "\tcols, names = list(), list()\n",
        "\t# input sequence (t-n, ... t-1)\n",
        "\tfor i in range(n_in, 0, -1):\n",
        "\t\tcols.append(df.shift(i))\n",
        "\t\tnames += [('var%d(t-%d)' % (j+1, i)) for j in range(n_vars)]\n",
        "\t# forecast sequence (t, t+1, ... t+n)\n",
        "\tfor i in range(0, n_out):\n",
        "\t\tcols.append(df.shift(-i))\n",
        "\t\tif i == 0:\n",
        "\t\t\tnames += [('var%d(t)' % (j+1)) for j in range(n_vars)]\n",
        "\t\telse:\n",
        "\t\t\tnames += [('var%d(t+%d)' % (j+1, i)) for j in range(n_vars)]\n",
        "\t# put it all together\n",
        "\tagg = pd.concat(cols, axis=1)\n",
        "\tagg.columns = names\n",
        "\t# drop rows with NaN values\n",
        "\tif dropnan:\n",
        "\t\tagg.dropna(inplace=True)\n",
        "\treturn agg"
      ],
      "execution_count": 0,
      "outputs": []
    },
    {
      "cell_type": "code",
      "metadata": {
        "id": "t5xG7A7qBYfd",
        "colab_type": "code",
        "outputId": "81147e97-0576-4338-8a14-29879cf98331",
        "colab": {
          "base_uri": "https://localhost:8080/",
          "height": 153
        }
      },
      "source": [
        "# load dataset\n",
        "data = df_transpose.loc[:,'Afghanistan':'Yemen']\n",
        "values = data.values\n",
        "# ensure all data is float\n",
        "values = values.astype('float32')\n",
        "# normalize features\n",
        "scaler = MinMaxScaler(feature_range=(0, 1))\n",
        "scaled = scaler.fit_transform(values)\n",
        "# frame as supervised learning\n",
        "reframed = series_to_supervised(scaled, 1, 1)\n",
        "print(reframed.tail())"
      ],
      "execution_count": 48,
      "outputs": [
        {
          "output_type": "stream",
          "text": [
            "    var1(t-1)  var2(t-1)  var3(t-1)  ...  var181(t)  var182(t)  var183(t)\n",
            "77   0.777778   0.956522   0.658703  ...        0.5        0.0        0.0\n",
            "78   0.777778   0.956522   0.699659  ...        0.5        0.0        0.0\n",
            "79   0.833333   1.000000   0.802048  ...        1.0        0.0        0.0\n",
            "80   0.833333   1.000000   0.873720  ...        1.0        0.0        0.0\n",
            "81   1.000000   1.000000   0.938567  ...        1.0        0.0        0.0\n",
            "\n",
            "[5 rows x 366 columns]\n"
          ],
          "name": "stdout"
        }
      ]
    },
    {
      "cell_type": "code",
      "metadata": {
        "id": "y7Bq2o0SvkkQ",
        "colab_type": "code",
        "colab": {}
      },
      "source": [
        "reframed.head(20)"
      ],
      "execution_count": 0,
      "outputs": []
    },
    {
      "cell_type": "markdown",
      "metadata": {
        "id": "8jh0LbFpOBJZ",
        "colab_type": "text"
      },
      "source": [
        "##Add Features for Regression"
      ]
    },
    {
      "cell_type": "code",
      "metadata": {
        "id": "GyJrzOj5Ox22",
        "colab_type": "code",
        "colab": {}
      },
      "source": [
        "#Create a dataframe with the list of Features to be used\n",
        "df_features = df_country[['country', 'covid_confirmed_4_6_20','covid_deaths_4_6_20', 'covid_recovered_4_6_20', 'covid19_first_date','Population_2020', 'Density_KM2m', 'Median_age', ]]\n",
        "df_features\n",
        "\n",
        "#Calculate the number of days ago the first Covid19 case was reported\n",
        "#12th April was when the dataset was downloaded\n",
        "d = datetime(2020, 4, 12, 00, 00)\n",
        "\n",
        "df_features['covid19_first_date'] = df_features['covid19_first_date'].astype('datetime64[ns]')\n",
        "df_features['first_date_days'] = (d - df_features['covid19_first_date']).dt.days\n",
        "\n",
        "#Set covid19_first_date as a number from the most recent figure\n",
        "#df_features['covid19_first_date'] = (d - df_features['covid19_first_date']).dt.days"
      ],
      "execution_count": 0,
      "outputs": []
    },
    {
      "cell_type": "code",
      "metadata": {
        "id": "kN37wTiBh5S3",
        "colab_type": "code",
        "colab": {}
      },
      "source": [
        "#Add Tests per 1M to the df_features dataframe\n",
        "df_features = df_features.merge(df_world[['Country','Tests per 1M']], left_on='country', right_on='Country', how='left')\n",
        "df_features.drop(['Country'], axis=1)\n"
      ],
      "execution_count": 0,
      "outputs": []
    },
    {
      "cell_type": "code",
      "metadata": {
        "id": "2vcX36l_tBid",
        "colab_type": "code",
        "colab": {}
      },
      "source": [
        "#Calculate the Average number of deaths for the last 20 days\n",
        "col = df_deaths.loc[: , '3/25/20':'4/12/20']\n",
        "df_deaths['last_20_avg'] = col.mean(axis=1)\n",
        "df_mean = df_deaths[['Province/State','Country/Region','last_20_avg']]\n",
        "df_mean.drop(['Province/State'],axis=1, inplace=True)\n",
        "df_mean = df_mean.groupby(['Country/Region']).sum()\n",
        "\n",
        "#Now add this new columnd to the df_feature dataframe\n",
        "df_features = df_features.merge(df_mean[['last_20_avg']], left_on='country', right_on='Country/Region', how='left')"
      ],
      "execution_count": 0,
      "outputs": []
    },
    {
      "cell_type": "code",
      "metadata": {
        "id": "fIn7B0dO43c5",
        "colab_type": "code",
        "colab": {}
      },
      "source": [
        "#Set all NaN to 0\n",
        "df_features.fillna(0, inplace=True)\n",
        "\n",
        "#Remove all commas from strings, so they can be converted to numbers\n",
        "df_features['Density_KM2m'].replace(\",\", \"\", inplace=True)\n",
        "\n",
        "#Remove N.A. value and replace with 0\n",
        "df_features=df_features.replace('N.A.','0')\n",
        "\n",
        "#Divide population by 1M, so the intercept is not so large\n",
        "df_features['Population_2020'] = df_features['Population_2020']/1000000\n",
        "\n",
        "#Update Median Age type\n",
        "df_features['Median_age'] = df_features['Median_age'].astype(int)"
      ],
      "execution_count": 0,
      "outputs": []
    },
    {
      "cell_type": "code",
      "metadata": {
        "id": "7yanNUMG1vL8",
        "colab_type": "code",
        "colab": {}
      },
      "source": [
        "#Create the feature of no. of days to reach 1 death per million\n",
        "df_deaths_pm = df_deaths.merge(df_country[['country','Population_2020']], left_on='Country/Region', right_on='country', how='left')\n",
        "df_deaths_pm.drop(['country', 'Lat', 'Long'],axis=1,inplace=True)\n",
        "df_deaths_pm = df_deaths_pm.groupby(['Country/Region']).sum()\n",
        "df_deaths_pm['Population_2020'] = df_deaths_pm['Population_2020']/1000000\n",
        "df_deaths_pm['Population_2020'].fillna(0, inplace=True)\n",
        "#df_deaths_pm['Province/State'].fillna('', inplace=True)"
      ],
      "execution_count": 0,
      "outputs": []
    },
    {
      "cell_type": "code",
      "metadata": {
        "id": "SLfnw59J2jkk",
        "colab_type": "code",
        "colab": {}
      },
      "source": [
        "#Loop through the data and determine when the number of deaths\n",
        "#exceeds 1 death per million people\n",
        "df_deaths_pm['time_to_1m'] = ''\n",
        "for index, row in df_deaths_pm.iterrows():\n",
        "    for col, r2 in df_deaths_pm.iteritems():\n",
        "        if col == 'Country/Region' or col == 'last_20_avg' or col == 'Population_2020' or col == 'time_to_1m':\n",
        "              continue\n",
        "        if row[col] > row['Population_2020']:\n",
        "            df_deaths_pm.at[index, 'time_to_1m'] = str(col)\n",
        "            break\n",
        "\n",
        "#Now merge the column with the df_features dataframe\n",
        "df_val = pd.merge(df_features, df_deaths_pm, left_on='country', right_on='Country/Region',how='left')\n",
        "df_val = df_val.filter(['country','covid19_first_date','time_to_1m'], axis=1)\n",
        "df_val['time_to_1m'] = df_val['time_to_1m'].astype('datetime64[ns]')\n",
        "df_val = df_val.fillna(datetime(2020, 4, 30, 00, 00))\n",
        "df_val['days_to_1m'] = (df_val['time_to_1m'] - df_val['covid19_first_date']).dt.days\n",
        "#df_features = pd.merge(df_features, df_val[['country', 'days_to_1m']], on='country', how='left')\n",
        "\n",
        "#Drop Country data to feed to model\n",
        "df_features.drop(['Country', 'country', 'covid19_first_date'], axis=1, inplace=True)\n",
        "\n",
        "#Create the Y value, which is the Deaths per 1M in population\n",
        "df_features['Y'] = np.where(df_features.Population_2020>0., df_features.covid_deaths_4_6_20/df_features.Population_2020, 0.)\n"
      ],
      "execution_count": 0,
      "outputs": []
    },
    {
      "cell_type": "markdown",
      "metadata": {
        "id": "NVwgN_25Agwe",
        "colab_type": "text"
      },
      "source": [
        "#Build Models\n",
        "\n"
      ]
    },
    {
      "cell_type": "markdown",
      "metadata": {
        "id": "D5_lQDxgMCtP",
        "colab_type": "text"
      },
      "source": [
        "##Linear Regression"
      ]
    },
    {
      "cell_type": "code",
      "metadata": {
        "id": "dyKzZQTgMGZX",
        "colab_type": "code",
        "colab": {}
      },
      "source": [
        "#https://towardsdatascience.com/a-beginners-guide-to-linear-regression-in-python-with-scikit-learn-83a8f7ae2b4f\n",
        "X = df_features.loc[:, df_features.columns != 'Y']\n",
        "Y = df_features.loc[:, df_features.columns == 'Y']\n",
        "\n",
        "X_train, X_test, Y_train, Y_test = train_test_split(X, Y, test_size=0.2, random_state=0)\n",
        "columns = X_train.columns"
      ],
      "execution_count": 0,
      "outputs": []
    },
    {
      "cell_type": "code",
      "metadata": {
        "id": "V-sE4YidtOiR",
        "colab_type": "code",
        "outputId": "f7d8176d-7594-423a-8b1f-e9553c58275b",
        "colab": {
          "base_uri": "https://localhost:8080/",
          "height": 34
        }
      },
      "source": [
        "sc = StandardScaler()\n",
        "\n",
        "X_train_scaled = sc.fit_transform(X_train)\n",
        "X_test_scaled = sc.transform(X_test)\n",
        "\n",
        "X_train = pd.DataFrame(X_train_scaled)\n",
        "X_test = pd.DataFrame(X_test_scaled)\n",
        "\n",
        "model_lin = LinearRegression() \n",
        "model_lin.fit(X_train, Y_train)"
      ],
      "execution_count": 276,
      "outputs": [
        {
          "output_type": "execute_result",
          "data": {
            "text/plain": [
              "LinearRegression(copy_X=True, fit_intercept=True, n_jobs=None, normalize=False)"
            ]
          },
          "metadata": {
            "tags": []
          },
          "execution_count": 276
        }
      ]
    },
    {
      "cell_type": "code",
      "metadata": {
        "id": "gBhiUhO8_6F-",
        "colab_type": "code",
        "outputId": "413f68a5-146d-41f0-c3ac-cbe0cea28e14",
        "colab": {
          "base_uri": "https://localhost:8080/",
          "height": 68
        }
      },
      "source": [
        "print(model_lin.intercept_)\n",
        "\n",
        "print(model_lin.coef_)"
      ],
      "execution_count": 277,
      "outputs": [
        {
          "output_type": "stream",
          "text": [
            "[21.15843836]\n",
            "[[-12.93555566  33.54602131   3.48506753  -2.06970263  -2.11753642\n",
            "  -22.94363716   5.9514612   21.00902751  10.49130044]]\n"
          ],
          "name": "stdout"
        }
      ]
    },
    {
      "cell_type": "code",
      "metadata": {
        "id": "lEB0sphYAXWH",
        "colab_type": "code",
        "colab": {}
      },
      "source": [
        "pred_lin = model_lin.predict(X_test)"
      ],
      "execution_count": 0,
      "outputs": []
    },
    {
      "cell_type": "code",
      "metadata": {
        "id": "yYrwyclinV-L",
        "colab_type": "code",
        "outputId": "be224dcf-18e3-4ef7-855e-2dce70fcc2d4",
        "colab": {
          "base_uri": "https://localhost:8080/",
          "height": 85
        }
      },
      "source": [
        "#Calculat the RMSE to help determine the level of accuracy\n",
        "#rmse = sqrt(mean_squared_error(Y_test, pred_lin))\n",
        "\n",
        "print('MAE - '+ str(mean_absolute_error(Y_test, pred_lin)))\n",
        "print('MSE - '+ str(mean_squared_error(Y_test, pred_lin)))\n",
        "print ('RMSE - ' + str(sqrt(mean_squared_error(Y_test, pred_lin))))\n",
        "print('R-Squared - ' + str(r2_score(Y_test, pred_lin)))"
      ],
      "execution_count": 279,
      "outputs": [
        {
          "output_type": "stream",
          "text": [
            "MAE - 14.82829716618535\n",
            "MSE - 352.3187111003956\n",
            "RMSE - 18.77015479692151\n",
            "R-Squared - -1.9360508469990316\n"
          ],
          "name": "stdout"
        }
      ]
    },
    {
      "cell_type": "markdown",
      "metadata": {
        "id": "KWjFpAdVcUk4",
        "colab_type": "text"
      },
      "source": [
        "##KNN Regression"
      ]
    },
    {
      "cell_type": "code",
      "metadata": {
        "id": "UFbAyK0wc7bo",
        "colab_type": "code",
        "colab": {}
      },
      "source": [
        "#https://www.analyticsvidhya.com/blog/2018/08/k-nearest-neighbor-introduction-regression-python/\n",
        "\n",
        "X = df_features.loc[:, df_features.columns != 'Y']\n",
        "Y = df_features.loc[:, df_features.columns == 'Y']\n",
        "\n",
        "X_train, X_test, Y_train, Y_test = train_test_split(X, Y, test_size=0.2, random_state=0)\n"
      ],
      "execution_count": 0,
      "outputs": []
    },
    {
      "cell_type": "code",
      "metadata": {
        "id": "YOmlFGnRdDeU",
        "colab_type": "code",
        "colab": {}
      },
      "source": [
        "scaler = MinMaxScaler(feature_range=(0, 1))\n",
        "\n",
        "X_train_scaled = scaler.fit_transform(X_train)\n",
        "X_train = pd.DataFrame(X_train_scaled)\n",
        "\n",
        "X_test_scaled = scaler.fit_transform(X_test)\n",
        "X_test = pd.DataFrame(X_test_scaled)"
      ],
      "execution_count": 0,
      "outputs": []
    },
    {
      "cell_type": "code",
      "metadata": {
        "id": "xrbk1uPXdPP_",
        "colab_type": "code",
        "colab": {}
      },
      "source": [
        "rmse_knn = [] #to store rmse values for different k\n",
        "for K in range(120):\n",
        "    K = K+1\n",
        "    model_knn = neighbors.KNeighborsRegressor(n_neighbors = K)\n",
        "\n",
        "    model_knn.fit(X_train, Y_train)  #fit the model\n",
        "    pred=model_knn.predict(X_test) #make prediction on test set\n",
        "    error = sqrt(mean_squared_error(Y_test,pred)) #calculate rmse\n",
        "    rmse_knn.append(error) #store rmse values"
      ],
      "execution_count": 0,
      "outputs": []
    },
    {
      "cell_type": "code",
      "metadata": {
        "id": "eBu1sxQNePol",
        "colab_type": "code",
        "outputId": "e4b12f51-c242-4555-c506-cd16189f5a60",
        "colab": {
          "base_uri": "https://localhost:8080/",
          "height": 299
        }
      },
      "source": [
        "#Plot RMSE values\n",
        "curve = pd.DataFrame(rmse_knn) \n",
        "curve.plot()"
      ],
      "execution_count": 283,
      "outputs": [
        {
          "output_type": "execute_result",
          "data": {
            "text/plain": [
              "<matplotlib.axes._subplots.AxesSubplot at 0x7f904e4b4c18>"
            ]
          },
          "metadata": {
            "tags": []
          },
          "execution_count": 283
        },
        {
          "output_type": "display_data",
          "data": {
            "image/png": "[encoded data removed]",
            "text/plain": [
              "<Figure size 432x288 with 1 Axes>"
            ]
          },
          "metadata": {
            "tags": []
          }
        }
      ]
    },
    {
      "cell_type": "code",
      "metadata": {
        "id": "CsaOkEbHIZaQ",
        "colab_type": "code",
        "colab": {
          "base_uri": "https://localhost:8080/",
          "height": 34
        },
        "outputId": "3b0a200a-3036-454b-cd71-e4a0be46ddad"
      },
      "source": [
        "#Best value for K is 91\n",
        "model_knn = neighbors.KNeighborsRegressor(n_neighbors=91)\n",
        "model_knn.fit(X_train, Y_train)\n",
        "pred_knn = model_knn.predict(X_test)\n",
        "model_knn.score(X_train, Y_train)"
      ],
      "execution_count": 284,
      "outputs": [
        {
          "output_type": "execute_result",
          "data": {
            "text/plain": [
              "0.0036749061976897317"
            ]
          },
          "metadata": {
            "tags": []
          },
          "execution_count": 284
        }
      ]
    },
    {
      "cell_type": "code",
      "metadata": {
        "id": "x3i3B77NgqAz",
        "colab_type": "code",
        "colab": {
          "base_uri": "https://localhost:8080/",
          "height": 85
        },
        "outputId": "97a62385-b9bd-4f40-f6ee-0cf0210132f6"
      },
      "source": [
        "print('MAE - '+ str(mean_absolute_error(Y_test, pred_knn)))\n",
        "print('MSE - '+ str(mean_squared_error(Y_test, pred_knn)))\n",
        "print ('RMSE - ' + str(sqrt(mean_squared_error(Y_test, pred_knn))))\n",
        "print('R-Squared - ' + str(r2_score(Y_test, pred_knn)))"
      ],
      "execution_count": 285,
      "outputs": [
        {
          "output_type": "stream",
          "text": [
            "MAE - 11.094827667061038\n",
            "MSE - 213.5003230257081\n",
            "RMSE - 14.611650249910449\n",
            "R-Squared - -0.7792066799301289\n"
          ],
          "name": "stdout"
        }
      ]
    },
    {
      "cell_type": "markdown",
      "metadata": {
        "id": "IrhESG1YpiS_",
        "colab_type": "text"
      },
      "source": [
        "##Random Forest Regression"
      ]
    },
    {
      "cell_type": "code",
      "metadata": {
        "id": "fKD_bNzGOW87",
        "colab_type": "code",
        "colab": {}
      },
      "source": [
        "X = df_features.loc[:, df_features.columns != 'Y']\n",
        "Y = df_features.loc[:, df_features.columns == 'Y']"
      ],
      "execution_count": 0,
      "outputs": []
    },
    {
      "cell_type": "code",
      "metadata": {
        "id": "6GOI_vXuZ9vF",
        "colab_type": "code",
        "colab": {}
      },
      "source": [
        "#scaler = MinMaxScaler(feature_range=(0, 1))\n",
        "\n",
        "#X_train_scaled = scaler.fit_transform(X_train)\n",
        "#X_train = pd.DataFrame(X_train_scaled)\n",
        "\n",
        "#X_test_scaled = scaler.fit_transform(X_test)\n",
        "#X_test = pd.DataFrame(X_test_scaled)"
      ],
      "execution_count": 0,
      "outputs": []
    },
    {
      "cell_type": "code",
      "metadata": {
        "id": "drLnk7F6plI5",
        "colab_type": "code",
        "colab": {}
      },
      "source": [
        "#Split into test and train set\n",
        "X_train, X_test, Y_train, Y_test = train_test_split(X,Y, test_size=0.2, random_state=42)\n",
        "\n",
        "#Normalise the data\n",
        "sc = StandardScaler()\n",
        "\n",
        "X_train_scaled = sc.fit_transform(X_train)\n",
        "X_test_scaled = sc.transform(X_test)\n",
        "\n",
        "X_train = pd.DataFrame(X_train_scaled)\n",
        "X_test = pd.DataFrame(X_test_scaled)"
      ],
      "execution_count": 0,
      "outputs": []
    },
    {
      "cell_type": "code",
      "metadata": {
        "id": "903yjDHc3TM_",
        "colab_type": "code",
        "colab": {}
      },
      "source": [
        "rmse_rf=[]\n",
        "for est in range(50):\n",
        "    est = est+1\n",
        "    model_rf = RandomForestRegressor(n_estimators= est, random_state=45)\n",
        "\n",
        "    model_rf.fit(X_train, Y_train) \n",
        "    pred=model_rf.predict(X_test) \n",
        "    error = sqrt(mean_squared_error(Y_test,pred))\n",
        "    rmse_rf.append(error) "
      ],
      "execution_count": 0,
      "outputs": []
    },
    {
      "cell_type": "code",
      "metadata": {
        "id": "srybDDoW4y5Q",
        "colab_type": "code",
        "colab": {
          "base_uri": "https://localhost:8080/",
          "height": 298
        },
        "outputId": "7381b563-a668-42a6-c619-6811eef12589"
      },
      "source": [
        "#Plot RMSE values\n",
        "curve = pd.DataFrame(rmse_rf) \n",
        "curve.plot()"
      ],
      "execution_count": 289,
      "outputs": [
        {
          "output_type": "execute_result",
          "data": {
            "text/plain": [
              "<matplotlib.axes._subplots.AxesSubplot at 0x7f904e5eedd8>"
            ]
          },
          "metadata": {
            "tags": []
          },
          "execution_count": 289
        },
        {
          "output_type": "display_data",
          "data": {
            "image/png": "[encoded data removed]",
            "text/plain": [
              "<Figure size 432x288 with 1 Axes>"
            ]
          },
          "metadata": {
            "tags": []
          }
        }
      ]
    },
    {
      "cell_type": "code",
      "metadata": {
        "id": "h-neXqZraW0J",
        "colab_type": "code",
        "colab": {}
      },
      "source": [
        "model_rf = RandomForestRegressor(n_estimators=38, random_state=45)\n",
        "model_rf.fit(X_train, Y_train)\n",
        "\n",
        "pred_rf = model_rf.predict(X_test)"
      ],
      "execution_count": 0,
      "outputs": []
    },
    {
      "cell_type": "code",
      "metadata": {
        "id": "nZjrrpT5qfxO",
        "colab_type": "code",
        "outputId": "7ed4bb07-a386-4cba-d669-fe9e2340de7a",
        "colab": {
          "base_uri": "https://localhost:8080/",
          "height": 68
        }
      },
      "source": [
        "error = sqrt(mean_squared_error(Y_test,pred))\n",
        "print(error)\n",
        "print(model_rf.feature_importances_)"
      ],
      "execution_count": 291,
      "outputs": [
        {
          "output_type": "stream",
          "text": [
            "153.6337344524334\n",
            "[0.08536147 0.22177432 0.03360008 0.02860457 0.01139055 0.03039347\n",
            " 0.10185961 0.18229479 0.30472115]\n"
          ],
          "name": "stdout"
        }
      ]
    },
    {
      "cell_type": "code",
      "metadata": {
        "id": "IDRA5EC7hFoe",
        "colab_type": "code",
        "colab": {
          "base_uri": "https://localhost:8080/",
          "height": 85
        },
        "outputId": "c3ceae9a-30c5-4068-c870-fbab9861cd66"
      },
      "source": [
        "print('MAE - '+ str(mean_absolute_error(Y_test, pred_rf)))\n",
        "print('MSE - '+ str(mean_squared_error(Y_test, pred_rf)))\n",
        "print ('RMSE - ' + str(sqrt(mean_squared_error(Y_test, pred_rf))))\n",
        "print('R-Squared - ' + str(r2_score(Y_test, pred_rf)))"
      ],
      "execution_count": 292,
      "outputs": [
        {
          "output_type": "stream",
          "text": [
            "MAE - 34.42688635478878\n",
            "MSE - 23828.94429174617\n",
            "RMSE - 154.36626668979906\n",
            "R-Squared - 0.04828696820407474\n"
          ],
          "name": "stdout"
        }
      ]
    },
    {
      "cell_type": "markdown",
      "metadata": {
        "id": "SdtFHVhZ7qQS",
        "colab_type": "text"
      },
      "source": [
        "##Bayesian Regression"
      ]
    },
    {
      "cell_type": "code",
      "metadata": {
        "id": "3GsC09Oa6AhJ",
        "colab_type": "code",
        "colab": {}
      },
      "source": [
        "#Split into test and train set\n",
        "X_train, X_test, Y_train, Y_test = train_test_split(X,Y, test_size=0.2, random_state=42)\n",
        "\n",
        "#Normalise the data\n",
        "scaler = MinMaxScaler(feature_range=(0, 1))\n",
        "X_train_scaled = scaler.fit_transform(X_train)\n",
        "X_test_scaled = scaler.fit_transform(X_test)"
      ],
      "execution_count": 0,
      "outputs": []
    },
    {
      "cell_type": "code",
      "metadata": {
        "id": "bp0bdM_Z7094",
        "colab_type": "code",
        "colab": {}
      },
      "source": [
        "rmse_bay=[]\n",
        "for i in range(20):\n",
        "    i = i+1\n",
        "    model_bay=linear_model.BayesianRidge(n_iter=i)\n",
        "\n",
        "    model_bay.fit(X_train, Y_train)\n",
        "    pred=model_bay.predict(X_test) \n",
        "    error = sqrt(mean_squared_error(Y_test,pred))\n",
        "    rmse_bay.append(error) "
      ],
      "execution_count": 0,
      "outputs": []
    },
    {
      "cell_type": "code",
      "metadata": {
        "id": "Po990xwu8KDJ",
        "colab_type": "code",
        "colab": {
          "base_uri": "https://localhost:8080/",
          "height": 298
        },
        "outputId": "7469bc6a-7ee7-49bb-fd85-e6b4ead88287"
      },
      "source": [
        "#Plot RMSE values\n",
        "curve = pd.DataFrame(rmse_bay) \n",
        "curve.plot()"
      ],
      "execution_count": 295,
      "outputs": [
        {
          "output_type": "execute_result",
          "data": {
            "text/plain": [
              "<matplotlib.axes._subplots.AxesSubplot at 0x7f904e408048>"
            ]
          },
          "metadata": {
            "tags": []
          },
          "execution_count": 295
        },
        {
          "output_type": "display_data",
          "data": {
            "image/png": "[encoded data removed]",
            "text/plain": [
              "<Figure size 432x288 with 1 Axes>"
            ]
          },
          "metadata": {
            "tags": []
          }
        }
      ]
    },
    {
      "cell_type": "code",
      "metadata": {
        "id": "ADGj_fIq60Rq",
        "colab_type": "code",
        "colab": {}
      },
      "source": [
        "model_bay=linear_model.BayesianRidge(n_iter=3)\n",
        "\n",
        "model_bay.fit(X_train, Y_train)\n",
        "pred_bay=model_bay.predict(X_test) "
      ],
      "execution_count": 0,
      "outputs": []
    },
    {
      "cell_type": "code",
      "metadata": {
        "id": "xb92RwfehUrr",
        "colab_type": "code",
        "colab": {
          "base_uri": "https://localhost:8080/",
          "height": 85
        },
        "outputId": "e58ce99a-4d73-4484-f105-940a429911af"
      },
      "source": [
        "print('MAE - '+ str(mean_absolute_error(Y_test, pred_bay)))\n",
        "print('MSE - '+ str(mean_squared_error(Y_test, pred_bay)))\n",
        "print ('RMSE - ' + str(sqrt(mean_squared_error(Y_test, pred_bay))))\n",
        "print('R-Squared - ' + str(r2_score(Y_test, pred_bay)))"
      ],
      "execution_count": 297,
      "outputs": [
        {
          "output_type": "stream",
          "text": [
            "MAE - 40.46699504804309\n",
            "MSE - 25703.152466889536\n",
            "RMSE - 160.32202739140226\n",
            "R-Squared - -0.02656772626932824\n"
          ],
          "name": "stdout"
        }
      ]
    },
    {
      "cell_type": "markdown",
      "metadata": {
        "id": "rt9QhRS-SzHC",
        "colab_type": "text"
      },
      "source": [
        "##Ensemble of Regressions"
      ]
    },
    {
      "cell_type": "code",
      "metadata": {
        "id": "tu2a_KztSxoS",
        "colab_type": "code",
        "colab": {}
      },
      "source": [
        "final_pred=(pred_lin*0.5+pred_lin*0.5)"
      ],
      "execution_count": 0,
      "outputs": []
    },
    {
      "cell_type": "code",
      "metadata": {
        "id": "l9Dw-QF_T4HC",
        "colab_type": "code",
        "colab": {
          "base_uri": "https://localhost:8080/",
          "height": 68
        },
        "outputId": "ad524a59-ce08-48d3-fe97-5efe754ac286"
      },
      "source": [
        "print('MAE - '+ str(mean_absolute_error(Y_test, final_pred)))\n",
        "print('MSE - '+ str(mean_squared_error(Y_test, final_pred)))\n",
        "print ('RMSE - ' + str(sqrt(mean_squared_error(Y_test, final_pred))))"
      ],
      "execution_count": 211,
      "outputs": [
        {
          "output_type": "stream",
          "text": [
            "MAE - 14.82829716618535\n",
            "MSE - 352.3187111003956\n",
            "RMSE - 18.77015479692151\n"
          ],
          "name": "stdout"
        }
      ]
    },
    {
      "cell_type": "markdown",
      "metadata": {
        "id": "pNRPhAczlaZ4",
        "colab_type": "text"
      },
      "source": [
        "##SEIR Model"
      ]
    },
    {
      "cell_type": "markdown",
      "metadata": {
        "id": "41uNiqVElvqv",
        "colab_type": "text"
      },
      "source": [
        "Builds the modified SEIR model using code from Gitlab. Also caters for a change in R0 (R-zero) for when restrictions were implemented"
      ]
    },
    {
      "cell_type": "code",
      "metadata": {
        "id": "g7CCGSxd3V6P",
        "colab_type": "code",
        "colab": {}
      },
      "source": [
        "#Modified SEIR model\n",
        "#Reference for this code is: \n",
        "#https://github.com/hf2000510/infectious_disease_modelling/blob/master/part_two.ipynb\n"
      ],
      "execution_count": 0,
      "outputs": []
    },
    {
      "cell_type": "code",
      "metadata": {
        "id": "zTjYp0FM3hK3",
        "colab_type": "code",
        "colab": {}
      },
      "source": [
        "def plotseird(country, t, S, E, I, R, D=None, L=None, R0=None, Alpha=None):\n",
        "  f, ax = plt.subplots(1,1,figsize=(10,4))\n",
        "  ax.plot(t, S, 'b', alpha=0.7, linewidth=2, label='Susceptible')\n",
        "  ax.plot(t, E, 'y', alpha=0.7, linewidth=2, label='Exposed')\n",
        "  ax.plot(t, I, 'r', alpha=0.7, linewidth=2, label='Infected')\n",
        "  ax.plot(t, R, 'g', alpha=0.7, linewidth=2, label='Recovered')\n",
        "  if D is not None:\n",
        "    ax.plot(t, D, 'k', alpha=0.7, linewidth=2, label='Dead')\n",
        "    ax.plot(t, S+E+I+R+D, 'c--', alpha=0.7, linewidth=2, label='Total')\n",
        "  else:\n",
        "    ax.plot(t, S+E+I+R, 'c--', alpha=0.7, linewidth=2, label='Total')\n",
        "\n",
        "  ax.set_xlabel('Time (days)')\n",
        "\n",
        "  ax.yaxis.set_tick_params(length=0)\n",
        "  ax.xaxis.set_tick_params(length=0)\n",
        "  ax.grid(b=True, which='major', c='w', lw=2, ls='-')\n",
        "  legend = ax.legend(borderpad=2.0)\n",
        "  legend.get_frame().set_alpha(0.5)\n",
        "  for spine in ('top', 'right', 'bottom', 'left'):\n",
        "      ax.spines[spine].set_visible(False)\n",
        "  if L is not None:\n",
        "      plt.title(country + \" - Lockdown after {} days\".format(L))\n",
        "  plt.show();\n",
        "\n",
        "  #if R0 is not None or CFR is not None:\n",
        "  if R0 is not None:\n",
        "    f = plt.figure(figsize=(12,4))\n",
        "  \n",
        "  if R0 is not None:\n",
        "    # sp1\n",
        "    ax1 = f.add_subplot(121)\n",
        "    ax1.plot(t, R0, 'b--', alpha=0.7, linewidth=2, label='R_0')\n",
        "\n",
        "    ax1.set_xlabel('Time (days)')\n",
        "    ax1.title.set_text('R_0 over time')\n",
        "    # ax.set_ylabel('Number (1000s)')\n",
        "    # ax.set_ylim(0,1.2)\n",
        "    ax1.yaxis.set_tick_params(length=0)\n",
        "    ax1.xaxis.set_tick_params(length=0)\n",
        "    ax1.grid(b=True, which='major', c='w', lw=2, ls='-')\n",
        "    legend = ax1.legend()\n",
        "    legend.get_frame().set_alpha(0.5)\n",
        "    for spine in ('top', 'right', 'bottom', 'left'):\n",
        "      ax.spines[spine].set_visible(False)\n",
        "\n",
        "  if Alpha is not None:\n",
        "    # sp2\n",
        "    ax2 = f.add_subplot(122)\n",
        "    ax2.plot(t, Alpha, 'r--', alpha=0.7, linewidth=2, label='alpha')\n",
        "\n",
        "    ax2.set_xlabel('Time (days)')\n",
        "    ax2.title.set_text('fatality rate over time')\n",
        "    # ax.set_ylabel('Number (1000s)')\n",
        "    # ax.set_ylim(0,1.2)\n",
        "    ax2.yaxis.set_tick_params(length=0)\n",
        "    ax2.xaxis.set_tick_params(length=0)\n",
        "    ax2.grid(b=True, which='major', c='w', lw=2, ls='-')\n",
        "    legend = ax2.legend()\n",
        "    legend.get_frame().set_alpha(0.5)\n",
        "    for spine in ('top', 'right', 'bottom', 'left'):\n",
        "      ax.spines[spine].set_visible(False)\n",
        "\n",
        "    plt.show();"
      ],
      "execution_count": 0,
      "outputs": []
    },
    {
      "cell_type": "code",
      "metadata": {
        "id": "VKRK85LD2E01",
        "colab_type": "code",
        "colab": {}
      },
      "source": [
        "def deriv(y, t, N, beta, gamma, delta, alpha, rho):\n",
        "    S, E, I, R, D = y\n",
        "    dSdt = -beta(t) * S * I / N\n",
        "    dEdt = beta(t) * S * I / N - delta * E\n",
        "    dIdt = delta * E - (1 - alpha) * gamma * I - alpha * rho * I\n",
        "    dRdt = (1 - alpha) * gamma * I\n",
        "    dDdt = alpha * rho * I\n",
        "    return dSdt, dEdt, dIdt, dRdt, dDdt\n"
      ],
      "execution_count": 0,
      "outputs": []
    },
    {
      "cell_type": "code",
      "metadata": {
        "id": "aULS2Ey83Gb_",
        "colab_type": "code",
        "colab": {}
      },
      "source": [
        "def run_seir_model(N, L, country):\n",
        "  #N = 1_000_000\n",
        "  D = 4.0 # infections lasts four days\n",
        "  gamma = 1.0 / D\n",
        "  delta = 1.0 / 5.0  # incubation period of five days\n",
        "\n",
        "  #R_0_start, k, x0, R_0_end = 5.0, 0.5, 50, 0.5\n",
        "\n",
        "  def R_0(t):\n",
        "      return 5.0 if t < L else 1.2\n",
        "  def beta(t):\n",
        "      return R_0(t) * gamma\n",
        "\n",
        "  alpha = 0.2  # 20% death rate\n",
        "  rho = 1/9  # 9 days from infection until death\n",
        "  S0, E0, I0, R0, D0 = N-1, 1, 0, 0, 0  # initial conditions: one exposed\n",
        "\n",
        "  t = np.linspace(0, 200, 200) # Grid of time points (in days)\n",
        "  y0 = S0, E0, I0, R0, D0 # Initial conditions vector\n",
        "\n",
        "  # Integrate the SIR equations over the time grid, t.\n",
        "  ret = odeint(deriv, y0, t, args=(N, beta, gamma, delta, alpha, rho))\n",
        "  S, E, I, R, D = ret.T\n",
        "  #R0_over_time = [logistic_R_0(i) for i in range(len(t))]  # to plot R_0 over time: get function values\n",
        "\n",
        "  plotseird(country, t, S, E, I, R, D, L)\n",
        "  return S, E, I, R, D"
      ],
      "execution_count": 0,
      "outputs": []
    },
    {
      "cell_type": "code",
      "metadata": {
        "id": "IdCcHuXmSqT_",
        "colab_type": "code",
        "colab": {}
      },
      "source": [
        "#S, E, I, R, D = run_seir_model(df_seir_test.Population_2020[5], df_seir_test.Difference[5].round())\n",
        "#print(D[-1])\n",
        "deaths = []\n",
        "for index, row in df_seir_test.iterrows():\n",
        "    S, E, I, R, D = run_seir_model(df_seir_test.Population_2020[index], df_seir_test.Difference[index].round(), df_seir_test.country[index])\n",
        "    deaths.append(D[-1])\n",
        "\n",
        "df_seir_test['Deaths'] = deaths\n",
        "df_seir_test['Fatality Rate'] = df_seir_test['Deaths']/df_seir_test['Population_2020'] * 100"
      ],
      "execution_count": 0,
      "outputs": []
    },
    {
      "cell_type": "code",
      "metadata": {
        "id": "kQPGVPVM96tk",
        "colab_type": "code",
        "colab": {
          "base_uri": "https://localhost:8080/",
          "height": 390
        },
        "outputId": "68284c24-a1b7-456f-f414-2380ee39ed1e"
      },
      "source": [
        "df_seir_test.head(20)"
      ],
      "execution_count": 161,
      "outputs": [
        {
          "output_type": "execute_result",
          "data": {
            "text/html": [
              "<div>\n",
              "<style scoped>\n",
              "    .dataframe tbody tr th:only-of-type {\n",
              "        vertical-align: middle;\n",
              "    }\n",
              "\n",
              "    .dataframe tbody tr th {\n",
              "        vertical-align: top;\n",
              "    }\n",
              "\n",
              "    .dataframe thead th {\n",
              "        text-align: right;\n",
              "    }\n",
              "</style>\n",
              "<table border=\"1\" class=\"dataframe\">\n",
              "  <thead>\n",
              "    <tr style=\"text-align: right;\">\n",
              "      <th></th>\n",
              "      <th>country</th>\n",
              "      <th>min_date</th>\n",
              "      <th>max_date</th>\n",
              "      <th>covid19_first_date</th>\n",
              "      <th>Population_2020</th>\n",
              "      <th>Difference</th>\n",
              "      <th>Deaths</th>\n",
              "      <th>Fatality Rate</th>\n",
              "    </tr>\n",
              "  </thead>\n",
              "  <tbody>\n",
              "    <tr>\n",
              "      <th>2</th>\n",
              "      <td>Australia</td>\n",
              "      <td>2020-03-23</td>\n",
              "      <td>2020-03-23</td>\n",
              "      <td>2020-01-23 12:00:00</td>\n",
              "      <td>2.549988e+07</td>\n",
              "      <td>59.500000</td>\n",
              "      <td>2.111682e+06</td>\n",
              "      <td>8.281144</td>\n",
              "    </tr>\n",
              "    <tr>\n",
              "      <th>4</th>\n",
              "      <td>Egypt</td>\n",
              "      <td>2020-03-19</td>\n",
              "      <td>2020-03-19</td>\n",
              "      <td>2020-02-14 22:00:00</td>\n",
              "      <td>1.023344e+08</td>\n",
              "      <td>33.083333</td>\n",
              "      <td>6.919270e+05</td>\n",
              "      <td>0.676143</td>\n",
              "    </tr>\n",
              "    <tr>\n",
              "      <th>5</th>\n",
              "      <td>France</td>\n",
              "      <td>2020-03-16</td>\n",
              "      <td>2020-03-16</td>\n",
              "      <td>2020-01-24 12:00:00</td>\n",
              "      <td>6.527351e+07</td>\n",
              "      <td>51.500000</td>\n",
              "      <td>3.362979e+06</td>\n",
              "      <td>5.152135</td>\n",
              "    </tr>\n",
              "    <tr>\n",
              "      <th>8</th>\n",
              "      <td>India</td>\n",
              "      <td>2020-03-03</td>\n",
              "      <td>2020-03-24</td>\n",
              "      <td>2020-01-30 21:30:00</td>\n",
              "      <td>1.380004e+09</td>\n",
              "      <td>32.104167</td>\n",
              "      <td>6.236468e+05</td>\n",
              "      <td>0.045192</td>\n",
              "    </tr>\n",
              "    <tr>\n",
              "      <th>9</th>\n",
              "      <td>Italy</td>\n",
              "      <td>2020-02-23</td>\n",
              "      <td>2020-02-23</td>\n",
              "      <td>2020-01-30 21:30:00</td>\n",
              "      <td>6.046183e+07</td>\n",
              "      <td>23.104167</td>\n",
              "      <td>6.211875e+04</td>\n",
              "      <td>0.102740</td>\n",
              "    </tr>\n",
              "    <tr>\n",
              "      <th>10</th>\n",
              "      <td>Japan</td>\n",
              "      <td>2020-02-27</td>\n",
              "      <td>2020-02-27</td>\n",
              "      <td>2020-01-22 12:00:00</td>\n",
              "      <td>1.264765e+08</td>\n",
              "      <td>35.500000</td>\n",
              "      <td>1.340916e+06</td>\n",
              "      <td>1.060210</td>\n",
              "    </tr>\n",
              "    <tr>\n",
              "      <th>14</th>\n",
              "      <td>Lebanon</td>\n",
              "      <td>2020-03-18</td>\n",
              "      <td>2020-03-18</td>\n",
              "      <td>2020-02-21 22:00:00</td>\n",
              "      <td>6.825445e+06</td>\n",
              "      <td>25.083333</td>\n",
              "      <td>7.890941e+04</td>\n",
              "      <td>1.156106</td>\n",
              "    </tr>\n",
              "    <tr>\n",
              "      <th>18</th>\n",
              "      <td>Netherlands</td>\n",
              "      <td>2020-03-23</td>\n",
              "      <td>2020-03-23</td>\n",
              "      <td>2020-02-27 22:00:00</td>\n",
              "      <td>1.713487e+07</td>\n",
              "      <td>24.083333</td>\n",
              "      <td>7.415820e+04</td>\n",
              "      <td>0.432791</td>\n",
              "    </tr>\n",
              "    <tr>\n",
              "      <th>19</th>\n",
              "      <td>Nigeria</td>\n",
              "      <td>2020-03-20</td>\n",
              "      <td>2020-03-20</td>\n",
              "      <td>2020-02-28 22:00:00</td>\n",
              "      <td>2.061396e+08</td>\n",
              "      <td>20.083333</td>\n",
              "      <td>2.950043e+04</td>\n",
              "      <td>0.014311</td>\n",
              "    </tr>\n",
              "    <tr>\n",
              "      <th>22</th>\n",
              "      <td>Spain</td>\n",
              "      <td>2020-03-15</td>\n",
              "      <td>2020-03-25</td>\n",
              "      <td>2020-01-31 19:00:00</td>\n",
              "      <td>4.675478e+07</td>\n",
              "      <td>43.208333</td>\n",
              "      <td>1.846761e+06</td>\n",
              "      <td>3.949888</td>\n",
              "    </tr>\n",
              "    <tr>\n",
              "      <th>24</th>\n",
              "      <td>Taiwan</td>\n",
              "      <td>2020-02-17</td>\n",
              "      <td>2020-02-17</td>\n",
              "      <td>2020-01-23 12:00:00</td>\n",
              "      <td>2.381678e+07</td>\n",
              "      <td>24.500000</td>\n",
              "      <td>7.620311e+04</td>\n",
              "      <td>0.319956</td>\n",
              "    </tr>\n",
              "  </tbody>\n",
              "</table>\n",
              "</div>"
            ],
            "text/plain": [
              "        country   min_date   max_date  ... Difference        Deaths  Fatality Rate\n",
              "2     Australia 2020-03-23 2020-03-23  ...  59.500000  2.111682e+06       8.281144\n",
              "4         Egypt 2020-03-19 2020-03-19  ...  33.083333  6.919270e+05       0.676143\n",
              "5        France 2020-03-16 2020-03-16  ...  51.500000  3.362979e+06       5.152135\n",
              "8         India 2020-03-03 2020-03-24  ...  32.104167  6.236468e+05       0.045192\n",
              "9         Italy 2020-02-23 2020-02-23  ...  23.104167  6.211875e+04       0.102740\n",
              "10        Japan 2020-02-27 2020-02-27  ...  35.500000  1.340916e+06       1.060210\n",
              "14      Lebanon 2020-03-18 2020-03-18  ...  25.083333  7.890941e+04       1.156106\n",
              "18  Netherlands 2020-03-23 2020-03-23  ...  24.083333  7.415820e+04       0.432791\n",
              "19      Nigeria 2020-03-20 2020-03-20  ...  20.083333  2.950043e+04       0.014311\n",
              "22        Spain 2020-03-15 2020-03-25  ...  43.208333  1.846761e+06       3.949888\n",
              "24       Taiwan 2020-02-17 2020-02-17  ...  24.500000  7.620311e+04       0.319956\n",
              "\n",
              "[11 rows x 8 columns]"
            ]
          },
          "metadata": {
            "tags": []
          },
          "execution_count": 161
        }
      ]
    },
    {
      "cell_type": "code",
      "metadata": {
        "id": "W86OF6cJoAAc",
        "colab_type": "code",
        "colab": {
          "base_uri": "https://localhost:8080/",
          "height": 34
        },
        "outputId": "ab3e1eaa-9436-491a-9b59-80c8ac18eaac"
      },
      "source": [
        "df_seir_test.country[index]"
      ],
      "execution_count": 27,
      "outputs": [
        {
          "output_type": "execute_result",
          "data": {
            "text/plain": [
              "'Australia'"
            ]
          },
          "metadata": {
            "tags": []
          },
          "execution_count": 27
        }
      ]
    },
    {
      "cell_type": "markdown",
      "metadata": {
        "id": "KqtcedGL7o-N",
        "colab_type": "text"
      },
      "source": [
        "##Time Series Model Using ARIMA"
      ]
    },
    {
      "cell_type": "code",
      "metadata": {
        "id": "0bY2fVp37vLl",
        "colab_type": "code",
        "outputId": "a1d6dd0b-26dc-4788-864d-396290c1f65b",
        "colab": {
          "base_uri": "https://localhost:8080/",
          "height": 153
        }
      },
      "source": [
        "data = df_austria['Austria_Diff'].dropna().values\n",
        "data = df_actual['Sweden'].dropna().values\n",
        "mod = ARIMA(data, order=(2,0,1))\n",
        "results = mod.fit()\n",
        "print(results.summary().tables[1])"
      ],
      "execution_count": 132,
      "outputs": [
        {
          "output_type": "stream",
          "text": [
            "==============================================================================\n",
            "                 coef    std err          z      P>|z|      [0.025      0.975]\n",
            "------------------------------------------------------------------------------\n",
            "const         10.3976      8.539      1.218      0.227      -6.338      27.133\n",
            "ar.L1.y        0.2242      0.097      2.309      0.024       0.034       0.415\n",
            "ar.L2.y        0.5010      0.097      5.161      0.000       0.311       0.691\n",
            "ma.L1.y        1.0000      0.035     28.851      0.000       0.932       1.068\n",
            "==============================================================================\n"
          ],
          "name": "stdout"
        }
      ]
    },
    {
      "cell_type": "code",
      "metadata": {
        "id": "Q1GgUhCLh7VO",
        "colab_type": "code",
        "colab": {
          "base_uri": "https://localhost:8080/",
          "height": 269
        },
        "outputId": "7b392de7-6470-464d-c53a-1cc5489053f7"
      },
      "source": [
        "\n",
        "results.plot_predict(dynamic=False)\n",
        "plt.show()"
      ],
      "execution_count": 133,
      "outputs": [
        {
          "output_type": "display_data",
          "data": {
            "image/png": "[encoded data removed]",
            "text/plain": [
              "<Figure size 432x288 with 1 Axes>"
            ]
          },
          "metadata": {
            "tags": [],
            "needs_background": "light"
          }
        }
      ]
    },
    {
      "cell_type": "code",
      "metadata": {
        "id": "samlPgZmiJ3K",
        "colab_type": "code",
        "colab": {}
      },
      "source": [
        "print(results.summary())"
      ],
      "execution_count": 0,
      "outputs": []
    },
    {
      "cell_type": "code",
      "metadata": {
        "id": "2BMV9rqqTB9H",
        "colab_type": "code",
        "colab": {}
      },
      "source": [
        "#Use ARIMA to predict for each country\n",
        "#!pip install pyramid.arima\n",
        "#from pyramid.arima import auto_arima\n",
        "from statsmodels.tsa.statespace.sarimax import SARIMAX\n",
        "swed = df_actual['Sweden'].dropna().values\n",
        "modx = SARIMAX(swed, order=(1,1,0), measurement_error=True)\n",
        "\n"
      ],
      "execution_count": 0,
      "outputs": []
    },
    {
      "cell_type": "code",
      "metadata": {
        "id": "2za9_Bl7TJ58",
        "colab_type": "code",
        "colab": {
          "base_uri": "https://localhost:8080/",
          "height": 51
        },
        "outputId": "84063ffb-ee5d-4481-8aa8-44d2e1149dd8"
      },
      "source": [
        "pred = modx.fit()\n",
        "pred.forecast(10)"
      ],
      "execution_count": 129,
      "outputs": [
        {
          "output_type": "execute_result",
          "data": {
            "text/plain": [
              "array([10.92697097, 10.69669272, 10.64727366, 10.63666805, 10.63439202,\n",
              "       10.63390357, 10.63379875, 10.63377625, 10.63377143, 10.63377039])"
            ]
          },
          "metadata": {
            "tags": []
          },
          "execution_count": 129
        }
      ]
    },
    {
      "cell_type": "code",
      "metadata": {
        "id": "digwtAvzamDM",
        "colab_type": "code",
        "colab": {
          "base_uri": "https://localhost:8080/",
          "height": 153
        },
        "outputId": "47018960-7c1d-4d8b-f68f-fec4981afca3"
      },
      "source": [
        "swed"
      ],
      "execution_count": 131,
      "outputs": [
        {
          "output_type": "execute_result",
          "data": {
            "text/plain": [
              "array([  0.,   0.,   0.,   0.,   0.,   0.,   0.,   0.,   0.,   0.,   0.,\n",
              "         0.,   0.,   0.,   0.,   0.,   0.,   0.,   0.,   0.,   0.,   0.,\n",
              "         0.,   0.,   0.,   0.,   0.,   0.,   0.,   0.,   0.,   0.,   0.,\n",
              "         0.,   0.,   0.,   0.,   0.,   0.,   0.,   0.,   0.,   0.,   0.,\n",
              "         0.,   0.,   0.,   0.,   1.,   0.,   0.,   1.,   1.,   3.,   1.,\n",
              "         3.,   1.,   5.,   4.,   1.,   4.,  11.,  26.,  15.,  28.,   0.,\n",
              "         5.,  36.,  34.,  59.,  69.,  50.,  15.,  28.,  76., 114.,  96.,\n",
              "       106.,  77.,  17.,  12.])"
            ]
          },
          "metadata": {
            "tags": []
          },
          "execution_count": 131
        }
      ]
    },
    {
      "cell_type": "code",
      "metadata": {
        "id": "dD8PoHjeHV3N",
        "colab_type": "code",
        "colab": {}
      },
      "source": [
        "#Scale the data\n",
        "df_actual = df_actual.fillna(0)\n",
        "sc_in = MinMaxScaler(feature_range=(0, 1))\n",
        "#Would it make sense to add in other countries as \"features\" here???\n",
        "scaled_input = sc_in.fit_transform(df_actual[['China']])\n",
        "scaled_input =pd.DataFrame(scaled_input)\n",
        "X= scaled_input\n",
        "\n",
        "sc_out = MinMaxScaler(feature_range=(0, 1))\n",
        "scaler_output = sc_out.fit_transform(df_actual[['Austria']])\n",
        "scaler_output = pd.DataFrame(scaler_output)\n",
        "y=scaler_output"
      ],
      "execution_count": 0,
      "outputs": []
    },
    {
      "cell_type": "code",
      "metadata": {
        "id": "h3B62t6xjVb1",
        "colab_type": "code",
        "colab": {}
      },
      "source": [
        "X = pd.DataFrame(df_actual['China'][40:])\n",
        "y = pd.DataFrame(df_actual['Austria'][40:])"
      ],
      "execution_count": 0,
      "outputs": []
    },
    {
      "cell_type": "code",
      "metadata": {
        "id": "W43ixKjyKoLA",
        "colab_type": "code",
        "colab": {}
      },
      "source": [
        "#Setup train/test data\n",
        "#train_size=int(len(X) *0.7)\n",
        "#test_size = int(len(X)) - train_size\n",
        "#train_X, train_y = X[:train_size].dropna(), y[:train_size].dropna()\n",
        "#test_X, test_y = X[train_size:].dropna(), y[train_size:].dropna()\n",
        "train_X, test_X, train_y, test_y = train_test_split(X, y, test_size=0.3, random_state=0)"
      ],
      "execution_count": 0,
      "outputs": []
    },
    {
      "cell_type": "code",
      "metadata": {
        "id": "QtIAY7U5fULn",
        "colab_type": "code",
        "colab": {
          "base_uri": "https://localhost:8080/",
          "height": 85
        },
        "outputId": "711e21e5-d305-4d86-b4e6-16102e5b50a0"
      },
      "source": [
        "print(train_X.shape)\n",
        "print(train_y.shape)\n",
        "print(test_X.shape)\n",
        "print(test_y.shape)"
      ],
      "execution_count": 369,
      "outputs": [
        {
          "output_type": "stream",
          "text": [
            "(29, 1)\n",
            "(29, 1)\n",
            "(13, 1)\n",
            "(13, 1)\n"
          ],
          "name": "stdout"
        }
      ]
    },
    {
      "cell_type": "code",
      "metadata": {
        "id": "baI37s2gHcQU",
        "colab_type": "code",
        "colab": {}
      },
      "source": [
        "#Perform a step wise search for the best model parameters\n",
        "from pmdarima.arima import auto_arima\n",
        "\n",
        "step_wise=auto_arima(train_y, \n",
        " exogenous= train_X,\n",
        " start_p=1, start_q=1, \n",
        " max_p=7, max_q=7, \n",
        " d=1, max_d=7,\n",
        " trace=True, \n",
        " error_action='ignore', \n",
        " suppress_warnings=True, \n",
        " stepwise=True)"
      ],
      "execution_count": 0,
      "outputs": []
    },
    {
      "cell_type": "code",
      "metadata": {
        "id": "gkB7cPB6L5_I",
        "colab_type": "code",
        "colab": {}
      },
      "source": [
        "step_wise.summary()"
      ],
      "execution_count": 0,
      "outputs": []
    },
    {
      "cell_type": "code",
      "metadata": {
        "id": "0XERKyJhxwwA",
        "colab_type": "code",
        "colab": {}
      },
      "source": [
        "#Train the SARIMAX model\n",
        "mod_arimax = smx.tsa.SARIMAX(train_y, exog=train_X, order=(2,1,1),\n",
        "                            enforce_invertibility=False, enforce_stationarity=False)\n",
        "\n",
        "mod_res = mod_arimax.fit()\n",
        "mod_res.summary()"
      ],
      "execution_count": 0,
      "outputs": []
    },
    {
      "cell_type": "code",
      "metadata": {
        "id": "d_mFONaDaYaR",
        "colab_type": "code",
        "colab": {}
      },
      "source": [
        "res = mod_res.predict(start =train_size, end=train_size+test_size+(steps)-2, exog=test_X)"
      ],
      "execution_count": 0,
      "outputs": []
    },
    {
      "cell_type": "code",
      "metadata": {
        "id": "QqHTXCKkoEMD",
        "colab_type": "code",
        "colab": {}
      },
      "source": [
        "res"
      ],
      "execution_count": 0,
      "outputs": []
    },
    {
      "cell_type": "code",
      "metadata": {
        "id": "kW6ik0JoMZGJ",
        "colab_type": "code",
        "colab": {}
      },
      "source": [
        "from statsmodels.tsa.statespace.sarimax import SARIMAX\n",
        "m = SARIMAX(train_y, \n",
        " exog=train_X,\n",
        " order=(0,1,1),\n",
        " enforce_invertibility=False, enforce_stationarity=False)"
      ],
      "execution_count": 0,
      "outputs": []
    },
    {
      "cell_type": "code",
      "metadata": {
        "id": "WPcIQWqXOX9B",
        "colab_type": "code",
        "colab": {}
      },
      "source": [
        "results = m.fit()"
      ],
      "execution_count": 0,
      "outputs": []
    },
    {
      "cell_type": "code",
      "metadata": {
        "id": "EyKOB8VjOlXz",
        "colab_type": "code",
        "colab": {}
      },
      "source": [
        "forecast_1= results.forecast(steps=test_size+1, exog=test_X)"
      ],
      "execution_count": 0,
      "outputs": []
    },
    {
      "cell_type": "code",
      "metadata": {
        "id": "OEVlHmkngZ8F",
        "colab_type": "code",
        "colab": {}
      },
      "source": [
        "forecast_apple= pd.DataFrame(forecast_1)\n",
        "forecast_apple.reset_index(drop=True, inplace=True)\n",
        "forecast_apple.index=test_X.index\n",
        "forecast_apple['Actual'] =scaler_output.iloc[train_size:, 0]\n",
        "forecast_apple.rename(columns={0:'Forecast'}, inplace=True)"
      ],
      "execution_count": 0,
      "outputs": []
    },
    {
      "cell_type": "code",
      "metadata": {
        "id": "ay477ySkkdxY",
        "colab_type": "code",
        "colab": {
          "base_uri": "https://localhost:8080/",
          "height": 298
        },
        "outputId": "6c4a1345-2bb1-4c25-d1b8-8c5609bb3313"
      },
      "source": [
        "forecast_apple['Forecast'].plot(legend=True)\n",
        "forecast_apple['Actual'].plot(legend=True)"
      ],
      "execution_count": 384,
      "outputs": [
        {
          "output_type": "execute_result",
          "data": {
            "text/plain": [
              "<matplotlib.axes._subplots.AxesSubplot at 0x7f7e247a0860>"
            ]
          },
          "metadata": {
            "tags": []
          },
          "execution_count": 384
        },
        {
          "output_type": "display_data",
          "data": {
            "image/png": "[encoded data removed]",
            "text/plain": [
              "<Figure size 432x288 with 1 Axes>"
            ]
          },
          "metadata": {
            "tags": []
          }
        }
      ]
    },
    {
      "cell_type": "markdown",
      "metadata": {
        "id": "stLmf2SoVu4B",
        "colab_type": "text"
      },
      "source": [
        "##Time Series Model using LSTM"
      ]
    },
    {
      "cell_type": "code",
      "metadata": {
        "id": "gORZMkfk6r-o",
        "colab_type": "code",
        "outputId": "320e3754-ec8a-4b22-d7e6-f76603b012f5",
        "colab": {
          "base_uri": "https://localhost:8080/",
          "height": 34
        }
      },
      "source": [
        "#split into train and test sets\n",
        "values = reframed.values\n",
        "n_train_hours = 100\n",
        "train = values[:n_train_hours, :]\n",
        "test = values[n_train_hours:, :]\n",
        "# split into input and outputs\n",
        "#train_X, train_y = train[:, :-1], train[:, -1]\n",
        "#test_X, test_y = test[:, :-1], test[:, -1]\n",
        "train_X, test_X, train_y, test_y = train_test_split(train[:, :-1], train[:, -1], test_size=0.6, random_state=0)\n",
        "\n",
        "# reshape input to be 3D [samples, timesteps, features]\n",
        "train_X = train_X.reshape((train_X.shape[0], 1, train_X.shape[1]))\n",
        "test_X = test_X.reshape((test_X.shape[0], 1, test_X.shape[1]))\n",
        "print(train_X.shape, train_y.shape, test_X.shape, test_y.shape)"
      ],
      "execution_count": 111,
      "outputs": [
        {
          "output_type": "stream",
          "text": [
            "(32, 1, 365) (32,) (48, 1, 365) (48,)\n"
          ],
          "name": "stdout"
        }
      ]
    },
    {
      "cell_type": "code",
      "metadata": {
        "id": "1A5eRIknVzx0",
        "colab_type": "code",
        "colab": {}
      },
      "source": [
        "#Design Model\n",
        "model = Sequential()\n",
        "model.add(LSTM(365, input_shape=(train_X.shape[1], train_X.shape[2]),\n",
        "                return_sequences=True))\n",
        "model.add(Dense(1))\n",
        "model.compile(loss='mae', optimizer='adam')\n",
        "# fit network\n",
        "#Had to remove the validate_Data to get this to work.....it was throwing a very strage error before that\n",
        "history = model.fit(train_X, train_y, epochs=50, validation_data=(test_X, test_y), verbose=2, shuffle=False)"
      ],
      "execution_count": 0,
      "outputs": []
    },
    {
      "cell_type": "code",
      "metadata": {
        "id": "leBy7ifIB2Mi",
        "colab_type": "code",
        "colab": {}
      },
      "source": [
        "# plot history\n",
        "plt.plot(history.history['loss'], label='train')\n",
        "plt.plot(history.history['val_loss'], label='test')\n",
        "plt.legend()\n",
        "plt.show()"
      ],
      "execution_count": 0,
      "outputs": []
    },
    {
      "cell_type": "code",
      "metadata": {
        "id": "IJgg2DkS9qVF",
        "colab_type": "code",
        "colab": {}
      },
      "source": [
        "# make a prediction\n",
        "yhat = model.predict(test_X)"
      ],
      "execution_count": 0,
      "outputs": []
    },
    {
      "cell_type": "code",
      "metadata": {
        "id": "31acnTjC_Qpv",
        "colab_type": "code",
        "colab": {}
      },
      "source": [
        "test_X = test_X.reshape((test_X.shape[0], test_X.shape[2]))"
      ],
      "execution_count": 0,
      "outputs": []
    },
    {
      "cell_type": "code",
      "metadata": {
        "id": "4k-OIpEC_tT6",
        "colab_type": "code",
        "colab": {}
      },
      "source": [
        "# invert scaling for forecast\n",
        "inv_yhat = np.concatenate((yhat[:,0], test_X[:, 1:]), axis=1)"
      ],
      "execution_count": 0,
      "outputs": []
    },
    {
      "cell_type": "code",
      "metadata": {
        "id": "uUmkmkBTqpxW",
        "colab_type": "code",
        "colab": {
          "base_uri": "https://localhost:8080/",
          "height": 351
        },
        "outputId": "f33c0910-09e5-4d00-973c-06a168e08fdf"
      },
      "source": [
        "\n",
        "inv_yhat = scaler.inverse_transform(inv_yhat)\n",
        "inv_yhat = inv_yhat[:,0]\n",
        "# invert scaling for actual\n",
        "test_y = test_y.reshape((len(test_y), 1))\n",
        "inv_y = np.concatenate((test_y, test_X[:, 1:]), axis=1)\n",
        "inv_y = scaler.inverse_transform(inv_y)\n",
        "inv_y = inv_y[:,0]\n",
        "# calculate RMSE\n",
        "rmse = sqrt(mean_squared_error(inv_y, inv_yhat))\n",
        "print('Test RMSE: %.3f' % rmse)"
      ],
      "execution_count": 116,
      "outputs": [
        {
          "output_type": "error",
          "ename": "ValueError",
          "evalue": "ignored",
          "traceback": [
            "\u001b[0;31m---------------------------------------------------------------------------\u001b[0m",
            "\u001b[0;31mValueError\u001b[0m                                Traceback (most recent call last)",
            "\u001b[0;32m<ipython-input-116-5283049453be>\u001b[0m in \u001b[0;36m<module>\u001b[0;34m()\u001b[0m\n\u001b[1;32m      1\u001b[0m \u001b[0;34m\u001b[0m\u001b[0m\n\u001b[0;32m----> 2\u001b[0;31m \u001b[0minv_yhat\u001b[0m \u001b[0;34m=\u001b[0m \u001b[0mscaler\u001b[0m\u001b[0;34m.\u001b[0m\u001b[0minverse_transform\u001b[0m\u001b[0;34m(\u001b[0m\u001b[0minv_yhat\u001b[0m\u001b[0;34m)\u001b[0m\u001b[0;34m\u001b[0m\u001b[0;34m\u001b[0m\u001b[0m\n\u001b[0m\u001b[1;32m      3\u001b[0m \u001b[0minv_yhat\u001b[0m \u001b[0;34m=\u001b[0m \u001b[0minv_yhat\u001b[0m\u001b[0;34m[\u001b[0m\u001b[0;34m:\u001b[0m\u001b[0;34m,\u001b[0m\u001b[0;36m0\u001b[0m\u001b[0;34m]\u001b[0m\u001b[0;34m\u001b[0m\u001b[0;34m\u001b[0m\u001b[0m\n\u001b[1;32m      4\u001b[0m \u001b[0;31m# invert scaling for actual\u001b[0m\u001b[0;34m\u001b[0m\u001b[0;34m\u001b[0m\u001b[0;34m\u001b[0m\u001b[0m\n\u001b[1;32m      5\u001b[0m \u001b[0mtest_y\u001b[0m \u001b[0;34m=\u001b[0m \u001b[0mtest_y\u001b[0m\u001b[0;34m.\u001b[0m\u001b[0mreshape\u001b[0m\u001b[0;34m(\u001b[0m\u001b[0;34m(\u001b[0m\u001b[0mlen\u001b[0m\u001b[0;34m(\u001b[0m\u001b[0mtest_y\u001b[0m\u001b[0;34m)\u001b[0m\u001b[0;34m,\u001b[0m \u001b[0;36m1\u001b[0m\u001b[0;34m)\u001b[0m\u001b[0;34m)\u001b[0m\u001b[0;34m\u001b[0m\u001b[0;34m\u001b[0m\u001b[0m\n",
            "\u001b[0;32m/usr/local/lib/python3.6/dist-packages/sklearn/preprocessing/_data.py\u001b[0m in \u001b[0;36minverse_transform\u001b[0;34m(self, X)\u001b[0m\n\u001b[1;32m    434\u001b[0m                         force_all_finite=\"allow-nan\")\n\u001b[1;32m    435\u001b[0m \u001b[0;34m\u001b[0m\u001b[0m\n\u001b[0;32m--> 436\u001b[0;31m         \u001b[0mX\u001b[0m \u001b[0;34m-=\u001b[0m \u001b[0mself\u001b[0m\u001b[0;34m.\u001b[0m\u001b[0mmin_\u001b[0m\u001b[0;34m\u001b[0m\u001b[0;34m\u001b[0m\u001b[0m\n\u001b[0m\u001b[1;32m    437\u001b[0m         \u001b[0mX\u001b[0m \u001b[0;34m/=\u001b[0m \u001b[0mself\u001b[0m\u001b[0;34m.\u001b[0m\u001b[0mscale_\u001b[0m\u001b[0;34m\u001b[0m\u001b[0;34m\u001b[0m\u001b[0m\n\u001b[1;32m    438\u001b[0m         \u001b[0;32mreturn\u001b[0m \u001b[0mX\u001b[0m\u001b[0;34m\u001b[0m\u001b[0;34m\u001b[0m\u001b[0m\n",
            "\u001b[0;31mValueError\u001b[0m: operands could not be broadcast together with shapes (48,365) (183,) (48,365) "
          ]
        }
      ]
    },
    {
      "cell_type": "markdown",
      "metadata": {
        "id": "hf9xlybum8g_",
        "colab_type": "text"
      },
      "source": [
        "#Evaluation of Models"
      ]
    },
    {
      "cell_type": "markdown",
      "metadata": {
        "id": "vQ7JqDanwLZt",
        "colab_type": "text"
      },
      "source": [
        "#Conclusion"
      ]
    }
  ]
}